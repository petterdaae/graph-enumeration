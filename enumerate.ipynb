{
 "cells": [
  {
   "cell_type": "code",
   "execution_count": 47,
   "id": "211a8bcd",
   "metadata": {},
   "outputs": [],
   "source": [
    "from itertools import permutations, chain, combinations"
   ]
  },
  {
   "cell_type": "code",
   "execution_count": 62,
   "id": "b01485a0",
   "metadata": {},
   "outputs": [
    {
     "data": {
      "text/plain": [
       "[(0, 1), (1, 0)]"
      ]
     },
     "execution_count": 62,
     "metadata": {},
     "output_type": "execute_result"
    }
   ],
   "source": [
    "def pairs(n, ordered=True):\n",
    "    elements = [i for i in range(n)]\n",
    "    c = list(combinations(elements, 2))\n",
    "    if ordered:\n",
    "        return sorted(c + [(j, i) for (i, j) in c])\n",
    "    return sorted(c)\n",
    "\n",
    "pairs(2)"
   ]
  },
  {
   "cell_type": "code",
   "execution_count": 63,
   "id": "e31de666",
   "metadata": {},
   "outputs": [
    {
     "data": {
      "text/plain": [
       "[(), ((0, 1),), ((0, 1), (1, 0)), ((1, 0),)]"
      ]
     },
     "execution_count": 63,
     "metadata": {},
     "output_type": "execute_result"
    }
   ],
   "source": [
    "def subsets(collection):\n",
    "    return sorted(list(chain.from_iterable(combinations(collection, r) for r in range(len(collection)+1))))\n",
    "\n",
    "subsets(pairs(2))"
   ]
  },
  {
   "cell_type": "code",
   "execution_count": 64,
   "id": "6cf31efb",
   "metadata": {},
   "outputs": [
    {
     "data": {
      "text/plain": [
       "[(1, 2), (2, 1)]"
      ]
     },
     "execution_count": 64,
     "metadata": {},
     "output_type": "execute_result"
    }
   ],
   "source": [
    "def permute(collection):\n",
    "    return sorted(list(permutations(collection)))\n",
    "\n",
    "permute([1, 2])"
   ]
  }
 ],
 "metadata": {
  "kernelspec": {
   "display_name": "Python 3 (ipykernel)",
   "language": "python",
   "name": "python3"
  },
  "language_info": {
   "codemirror_mode": {
    "name": "ipython",
    "version": 3
   },
   "file_extension": ".py",
   "mimetype": "text/x-python",
   "name": "python",
   "nbconvert_exporter": "python",
   "pygments_lexer": "ipython3",
   "version": "3.8.10"
  }
 },
 "nbformat": 4,
 "nbformat_minor": 5
}
