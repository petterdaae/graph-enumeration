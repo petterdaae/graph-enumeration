{
 "cells": [
  {
   "cell_type": "code",
   "execution_count": 97,
   "id": "526d8178",
   "metadata": {},
   "outputs": [],
   "source": [
    "from itertools import permutations, chain, combinations"
   ]
  },
  {
   "cell_type": "code",
   "execution_count": 98,
   "id": "48bcdee3",
   "metadata": {},
   "outputs": [
    {
     "data": {
      "text/plain": [
       "[[0, 1], [1, 0]]"
      ]
     },
     "execution_count": 98,
     "metadata": {},
     "output_type": "execute_result"
    }
   ],
   "source": [
    "def pairs(n, ordered=True):\n",
    "    elements = [i for i in range(n)]\n",
    "    c = [[i, j] for (i, j) in combinations(elements, 2)]\n",
    "    if ordered:\n",
    "        return sorted(c + [[j, i] for [i, j] in c])\n",
    "    return sorted(c)\n",
    "\n",
    "pairs(2)"
   ]
  },
  {
   "cell_type": "code",
   "execution_count": 99,
   "id": "9b11ad01",
   "metadata": {},
   "outputs": [
    {
     "data": {
      "text/plain": [
       "[[], [[0, 1]], [[0, 1], [1, 0]], [[1, 0]]]"
      ]
     },
     "execution_count": 99,
     "metadata": {},
     "output_type": "execute_result"
    }
   ],
   "source": [
    "def subsets(collection):\n",
    "    return sorted([\n",
    "        [edge for edge in graph]\n",
    "        for graph in list(chain.from_iterable(combinations(collection, r) for r in range(len(collection)+1)))\n",
    "    ])\n",
    "\n",
    "subsets(pairs(2))"
   ]
  },
  {
   "cell_type": "code",
   "execution_count": 100,
   "id": "098c4e65",
   "metadata": {},
   "outputs": [
    {
     "data": {
      "text/plain": [
       "[[0, 1], [1, 0]]"
      ]
     },
     "execution_count": 100,
     "metadata": {},
     "output_type": "execute_result"
    }
   ],
   "source": [
    "def permute(n):\n",
    "    return sorted([\n",
    "        list(perm)\n",
    "        for perm in list(permutations([i for i in range(n)]))\n",
    "    ])\n",
    "\n",
    "permute(2)"
   ]
  },
  {
   "cell_type": "code",
   "execution_count": 111,
   "id": "b2c7edf2",
   "metadata": {},
   "outputs": [
    {
     "data": {
      "text/plain": [
       "[[[0, 1], [0, 2]],\n",
       " [[0, 1], [0, 2]],\n",
       " [[1, 0], [1, 2]],\n",
       " [[1, 0], [1, 2]],\n",
       " [[2, 0], [2, 1]],\n",
       " [[2, 0], [2, 1]]]"
      ]
     },
     "execution_count": 111,
     "metadata": {},
     "output_type": "execute_result"
    }
   ],
   "source": [
    "def copy_graph(graph):\n",
    "    return [[i, j] for [i, j] in graph]\n",
    "\n",
    "def permutations_of_graph(graph, n, ordered=True):\n",
    "    result = []\n",
    "    for p in permute(n):\n",
    "        substituted = copy_graph(graph)\n",
    "        for i, [u, v] in enumerate(substituted):\n",
    "            for j, x in enumerate(p):\n",
    "                if u == j:\n",
    "                    substituted[i][0] = x\n",
    "                elif v == j:\n",
    "                    substituted[i][1] = x\n",
    "        result.append(substituted)\n",
    "    \n",
    "    if not ordered:\n",
    "        result = [[sorted(edge) for edge in graph] for graph in result]\n",
    "    \n",
    "    return [sorted(graph) for graph in result]\n",
    "\n",
    "permutations_of_graph([[0, 1],[0, 2]], 3)"
   ]
  },
  {
   "cell_type": "code",
   "execution_count": 115,
   "id": "48c94c44",
   "metadata": {},
   "outputs": [
    {
     "data": {
      "text/plain": [
       "[[], [[0, 1]], [[0, 1], [0, 2]], [[0, 1], [0, 2], [1, 2]]]"
      ]
     },
     "execution_count": 115,
     "metadata": {},
     "output_type": "execute_result"
    }
   ],
   "source": [
    "def graphs(n, ordered=True):\n",
    "    possible_edges = pairs(n, ordered)\n",
    "    possible_graphs = subsets(possible_edges)\n",
    "    \n",
    "    explored_graphs = set()\n",
    "    result = []\n",
    "    \n",
    "    for graph in possible_graphs:\n",
    "        \n",
    "        if str(graph) in explored_graphs:\n",
    "            continue\n",
    "        \n",
    "        result.append(graph)\n",
    "        \n",
    "        for permutation_of_graph in permutations_of_graph(graph, n, ordered):\n",
    "            explored_graphs.add(str(permutation_of_graph))\n",
    "    \n",
    "    return result\n",
    "        \n",
    "graphs(3, ordered=False)"
   ]
  },
  {
   "cell_type": "code",
   "execution_count": 124,
   "id": "21878550",
   "metadata": {},
   "outputs": [
    {
     "name": "stdout",
     "output_type": "stream",
     "text": [
      "Undirected graphs of size 4: 11\n",
      "Directed graphs of size 4: 218\n"
     ]
    }
   ],
   "source": [
    "print(\"Undirected graphs of size 4:\", len(graphs(4, ordered=False)))\n",
    "print(\"Directed graphs of size 4:\", len(graphs(4, ordered=True)))"
   ]
  },
  {
   "cell_type": "code",
   "execution_count": null,
   "id": "c3251b61",
   "metadata": {},
   "outputs": [],
   "source": []
  }
 ],
 "metadata": {
  "kernelspec": {
   "display_name": "Python 3 (ipykernel)",
   "language": "python",
   "name": "python3"
  },
  "language_info": {
   "codemirror_mode": {
    "name": "ipython",
    "version": 3
   },
   "file_extension": ".py",
   "mimetype": "text/x-python",
   "name": "python",
   "nbconvert_exporter": "python",
   "pygments_lexer": "ipython3",
   "version": "3.8.10"
  }
 },
 "nbformat": 4,
 "nbformat_minor": 5
}
