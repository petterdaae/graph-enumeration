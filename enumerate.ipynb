{
 "cells": [
  {
   "cell_type": "code",
   "execution_count": 97,
   "id": "482877c3",
   "metadata": {},
   "outputs": [],
   "source": [
    "from itertools import permutations, chain, combinations"
   ]
  },
  {
   "cell_type": "code",
   "execution_count": 98,
   "id": "a111faa5",
   "metadata": {},
   "outputs": [
    {
     "data": {
      "text/plain": [
       "[[0, 1], [1, 0]]"
      ]
     },
     "execution_count": 98,
     "metadata": {},
     "output_type": "execute_result"
    }
   ],
   "source": [
    "def pairs(n, ordered=True):\n",
    "    elements = [i for i in range(n)]\n",
    "    c = [[i, j] for (i, j) in combinations(elements, 2)]\n",
    "    if ordered:\n",
    "        return sorted(c + [[j, i] for [i, j] in c])\n",
    "    return sorted(c)\n",
    "\n",
    "pairs(2)"
   ]
  },
  {
   "cell_type": "code",
   "execution_count": 99,
   "id": "a44792ba",
   "metadata": {},
   "outputs": [
    {
     "data": {
      "text/plain": [
       "[[], [[0, 1]], [[0, 1], [1, 0]], [[1, 0]]]"
      ]
     },
     "execution_count": 99,
     "metadata": {},
     "output_type": "execute_result"
    }
   ],
   "source": [
    "def subsets(collection):\n",
    "    return sorted([\n",
    "        [edge for edge in graph]\n",
    "        for graph in list(chain.from_iterable(combinations(collection, r) for r in range(len(collection)+1)))\n",
    "    ])\n",
    "\n",
    "subsets(pairs(2))"
   ]
  },
  {
   "cell_type": "code",
   "execution_count": 100,
   "id": "aa3b8a3f",
   "metadata": {},
   "outputs": [
    {
     "data": {
      "text/plain": [
       "[[0, 1], [1, 0]]"
      ]
     },
     "execution_count": 100,
     "metadata": {},
     "output_type": "execute_result"
    }
   ],
   "source": [
    "def permute(n):\n",
    "    return sorted([\n",
    "        list(perm)\n",
    "        for perm in list(permutations([i for i in range(n)]))\n",
    "    ])\n",
    "\n",
    "permute(2)"
   ]
  },
  {
   "cell_type": "code",
   "execution_count": 101,
   "id": "75177ce1",
   "metadata": {},
   "outputs": [
    {
     "data": {
      "text/plain": [
       "[[[0, 1], [1, 2]],\n",
       " [[0, 2], [2, 1]],\n",
       " [[1, 0], [0, 2]],\n",
       " [[1, 2], [2, 0]],\n",
       " [[2, 0], [0, 1]],\n",
       " [[2, 1], [1, 0]]]"
      ]
     },
     "execution_count": 101,
     "metadata": {},
     "output_type": "execute_result"
    }
   ],
   "source": [
    "def copy_graph(graph):\n",
    "    return [[i, j] for [i, j] in graph]\n",
    "\n",
    "def permutations_of_graph(graph, n):\n",
    "    result = []\n",
    "    for p in permute(n):\n",
    "        substituted = copy_graph(graph)\n",
    "        for i, [u, v] in enumerate(substituted):\n",
    "            for j, x in enumerate(p):\n",
    "                if u == j:\n",
    "                    substituted[i][0] = x\n",
    "                if v == j:\n",
    "                    substituted[i][1] = x\n",
    "        result.append(substituted)\n",
    "    return result\n",
    "\n",
    "permutations_of_graph([[0, 1], [1, 2]], 3)"
   ]
  },
  {
   "cell_type": "code",
   "execution_count": 66,
   "id": "221fdf75",
   "metadata": {},
   "outputs": [],
   "source": [
    "def graphs(n, ordered=True):\n",
    "    # 1. Generate all pairs\n",
    "    # 2. Generate all subsets\n",
    "    # 3. For each subset (graph) check if the\n",
    "    #    graph has been enumerated (check if\n",
    "    #    any permutation of the vertice exist)\n",
    "    pass"
   ]
  },
  {
   "cell_type": "code",
   "execution_count": null,
   "id": "127d0360",
   "metadata": {},
   "outputs": [],
   "source": []
  }
 ],
 "metadata": {
  "kernelspec": {
   "display_name": "Python 3 (ipykernel)",
   "language": "python",
   "name": "python3"
  },
  "language_info": {
   "codemirror_mode": {
    "name": "ipython",
    "version": 3
   },
   "file_extension": ".py",
   "mimetype": "text/x-python",
   "name": "python",
   "nbconvert_exporter": "python",
   "pygments_lexer": "ipython3",
   "version": "3.8.10"
  }
 },
 "nbformat": 4,
 "nbformat_minor": 5
}
